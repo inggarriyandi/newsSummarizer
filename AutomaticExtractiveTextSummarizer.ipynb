{
 "cells": [
  {
   "cell_type": "code",
   "execution_count": 54,
   "metadata": {
    "collapsed": true
   },
   "outputs": [
    {
     "data": {
      "text/plain": [
       "{'divide': 'ignore', 'over': 'warn', 'under': 'ignore', 'invalid': 'ignore'}"
      ]
     },
     "execution_count": 54,
     "metadata": {},
     "output_type": "execute_result"
    }
   ],
   "source": [
    "import numpy as np\n",
    "import pandas as pd\n",
    "import re\n",
    "import nltk.data\n",
    "import sys\n",
    "from sklearn.feature_extraction.text import CountVectorizer\n",
    "from sklearn.decomposition import NMF\n",
    "from Sastrawi.StopWordRemover.StopWordRemoverFactory import StopWordRemoverFactory\n",
    "from Sastrawi.Stemmer.StemmerFactory import StemmerFactory\n",
    "np.seterr(divide='ignore', invalid='ignore')"
   ]
  },
  {
   "cell_type": "code",
   "execution_count": 20,
   "metadata": {},
   "outputs": [],
   "source": [
    "def preProcess(konten, judul):\n",
    "    \n",
    "#Sentence Segmentation & Case Folding\n",
    "    a = konten\n",
    "    a = a.replace(', ',',')\n",
    "    a = a.replace(',',', ')\n",
    "    #teks = a.split(' ', 3)[3]\n",
    "    teks = a\n",
    "    teks = teks.replace('www.','')\n",
    "    teks = teks.replace('.com','com')\n",
    "    teks = teks.replace('.COM','COM')\n",
    "    teks = teks.replace('.','. ')\n",
    "    teks = teks.encode(\"ascii\", \"ignore\")\n",
    "    teks = teks.decode(\"ascii\")\n",
    "    teks = teks.replace('\\n','')\n",
    "    \n",
    "    #Sentence Segmentation\n",
    "    import nltk.data\n",
    "    tokenizer = nltk.data.load('tokenizers/punkt/english.pickle')\n",
    "    kalimat = tokenizer.tokenize(teks)\n",
    "    \n",
    "    #Case Folding\n",
    "    low = []\n",
    "    for x in kalimat:\n",
    "        a = re.sub(r'[^a-zA-Z0-9\\s]', ' ', x)\n",
    "        a = ''.join([i for i in a if not i.isdigit()])\n",
    "        a = a.lower()\n",
    "        low.append(a)\n",
    "    \n",
    "    \n",
    "#Stopword removal\n",
    "    factory = StopWordRemoverFactory()\n",
    "    stopword = factory.create_stop_word_remover()\n",
    "    \n",
    "    stopped = []\n",
    "    for s in low:\n",
    "        stop = stopword.remove(s)\n",
    "        stopped.append(stop)\n",
    "\n",
    "    nyoba = pd.DataFrame({'col':stopped})\n",
    "    \n",
    "#Stemming\n",
    "    factory1 = StemmerFactory()\n",
    "    stemmer = factory1.create_stemmer()\n",
    "\n",
    "    nyoba['col'] = nyoba['col'].apply(lambda x: stemmer.stem(x))\n",
    "    stemmed = nyoba['col'].tolist()\n",
    "    \n",
    "    #Buat Dictionary untuk teks sebelum & setelah dilakukan preprocess (Belum tokenize)\n",
    "    dictionary = dict(zip(stemmed, kalimat))\n",
    "    \n",
    "#Preprocess buat judul\n",
    "    b = judul\n",
    "    b = b.encode(\"ascii\", \"ignore\")\n",
    "    b = b.decode(\"ascii\")\n",
    "    b = b.replace('\\n','')\n",
    "    b = re.sub(r'[^a-zA-Z0-9\\s]', ' ', b)\n",
    "    b = ''.join([i for i in b if not i.isdigit()])\n",
    "    b = b.lower()\n",
    "    b = stopword.remove(b)\n",
    "    b = stemmer.stem(b)\n",
    "    \n",
    "    #Buat Dictionary untuk teks sebelum & setelah dilakukan preprocess (Belum tokenize)\n",
    "    dictionary = dict(zip(stemmed, kalimat))\n",
    "    \n",
    "    return dictionary, b"
   ]
  },
  {
   "cell_type": "code",
   "execution_count": 21,
   "metadata": {},
   "outputs": [],
   "source": [
    "def kataKunci(kalimat, judul) :\n",
    "    \n",
    "    a = len(judul.split())\n",
    "    \n",
    "    vectorizer = CountVectorizer()\n",
    "    \n",
    "    X = vectorizer.fit_transform(kalimat)\n",
    "    idx_to_word = np.array(vectorizer.get_feature_names())\n",
    "    \n",
    "    nmf = NMF(n_components=1, solver=\"mu\", init = \"random\",\n",
    "              beta_loss=\"frobenius\", tol=1e-4) \n",
    "    W = nmf.fit_transform(X)\n",
    "    H = nmf.components_\n",
    "    \n",
    "    for i, topic in enumerate(H) :\n",
    "        keyword = idx_to_word[topic.argsort()[-a:]]\n",
    "    \n",
    "    keyword = keyword.tolist()\n",
    "    katakunci = ' '.join(keyword)\n",
    "    \n",
    "    return katakunci"
   ]
  },
  {
   "cell_type": "code",
   "execution_count": 4,
   "metadata": {},
   "outputs": [],
   "source": [
    "def cosineSim(a,b) :\n",
    "    dot_product = np.dot(a, b)\n",
    "    norm_a = np.linalg.norm(a)\n",
    "    norm_b = np.linalg.norm(b)\n",
    "    return dot_product / (norm_a * norm_b)"
   ]
  },
  {
   "cell_type": "code",
   "execution_count": 5,
   "metadata": {},
   "outputs": [],
   "source": [
    "def bestSentence(sentences, query):\n",
    "    best_sentence = None\n",
    "    maxVal = float(\"-inf\")\n",
    "    \n",
    "    for sent in sentences:\n",
    "        kalimat = []\n",
    "        kalimat.append(sent)\n",
    "        kalimat.append(query)\n",
    "        \n",
    "        vectorizer = CountVectorizer()\n",
    "        tf = vectorizer.fit_transform(kalimat)\n",
    "        tf = tf.toarray()\n",
    "        tf_sent = tf[0]\n",
    "        tf_query = tf[1]\n",
    "        \n",
    "        similarity = cosineSim(tf_sent, tf_query)\n",
    "        \n",
    "        if similarity > maxVal:\n",
    "            best_sentence = sent\n",
    "            maxVal = similarity\n",
    "    \n",
    "    sentences.remove(best_sentence)\n",
    "    return best_sentence"
   ]
  },
  {
   "cell_type": "code",
   "execution_count": 6,
   "metadata": {},
   "outputs": [],
   "source": [
    "def MMR(Si, query, Sj, lamda):\n",
    "    \n",
    "    kalimat = []\n",
    "    kalimat.append(Si)\n",
    "    kalimat.append(query)\n",
    "        \n",
    "    vectorizer = CountVectorizer()\n",
    "    tf = vectorizer.fit_transform(kalimat)\n",
    "    tf = tf.toarray()\n",
    "    tf_Si = tf[0]\n",
    "    tf_query = tf[1]\n",
    "    \n",
    "    Sim1 = cosineSim(tf_Si, tf_query)\n",
    "    l_expr = lamda * Sim1\n",
    "    value = []\n",
    "\n",
    "    for sent in Sj:\n",
    "        kalimat1 = []\n",
    "        kalimat1.append(Si)\n",
    "        kalimat1.append(sent)\n",
    "        \n",
    "        vectorizer = CountVectorizer()\n",
    "        tf = vectorizer.fit_transform(kalimat1)\n",
    "        tf = tf.toarray()\n",
    "        tf_Si = tf[0]\n",
    "        tf_sent = tf[1]\n",
    "        \n",
    "        Sim2 = cosineSim(tf_Si, tf_sent)\n",
    "        value.append(Sim2)\n",
    "\n",
    "    r_expr = (1-lamda) * max(value)\n",
    "    MMR_SCORE = l_expr - r_expr\n",
    "\n",
    "    return MMR_SCORE    "
   ]
  },
  {
   "cell_type": "code",
   "execution_count": 7,
   "metadata": {},
   "outputs": [],
   "source": [
    "def makeSummary(sentences, best_sentence, query, summary_length, lamda):\n",
    "    rangkuman = [best_sentence]\n",
    "    sum_len = len(rangkuman)\n",
    "    \n",
    "    while sum_len < summary_length :\n",
    "        MMRval = {}\n",
    "        \n",
    "        for sent in sentences:\n",
    "            MMRval[sent] = MMR(sent, query, rangkuman, lamda)\n",
    "        \n",
    "        maxmmr = max(MMRval, key=MMRval.get)\n",
    "        rangkuman.append(maxmmr)\n",
    "        sentences.remove(maxmmr)\n",
    "        sum_len = len(rangkuman)\n",
    "    \n",
    "    return rangkuman"
   ]
  },
  {
   "cell_type": "code",
   "execution_count": 8,
   "metadata": {},
   "outputs": [],
   "source": [
    "def gabung(rangkuman, dictionary):\n",
    "    summ_arr = []\n",
    "    for summ in rangkuman :\n",
    "        summ_arr.append(dictionary[summ])\n",
    "\n",
    "    summary = ' '.join(summ_arr)\n",
    "    \n",
    "    return summary"
   ]
  },
  {
   "cell_type": "code",
   "execution_count": 55,
   "metadata": {},
   "outputs": [],
   "source": [
    "from urllib.request import urlopen\n",
    "from bs4 import BeautifulSoup\n",
    "\n",
    "link = \"https://krjogja.com/web/news/read/94681/Sandiaga_Uno_Sambangi_PDM_Kota_Yogyakarta_Ini_yang_Dilakukan\"\n",
    "\n",
    "html = urlopen(link).read()\n",
    "soup = BeautifulSoup(html, \"lxml\")\n",
    "\n",
    "judul = soup.find('h1').get_text()\n",
    "konten = soup.find('article').get_text()\n",
    "\n",
    "dictionary, title = preProcess(konten, judul)\n",
    "\n",
    "#mengambil teks berita dari dictionary\n",
    "teks = []\n",
    "for key, value in dictionary.items():\n",
    "    temp = key\n",
    "    teks.append(temp)\n",
    "    \n",
    "teks1 = teks.copy()\n",
    "kalimat = teks.copy()\n",
    "    \n",
    "query = kataKunci(teks, title) #mengambil kata kunci dengan metode NMF\n",
    "    \n",
    "    \n",
    "dariNMF = bestSentence(teks, query) #mengambil kalimat terbaik dengan query NMF dan cosinesim\n",
    "darijudul = bestSentence(teks1, title) #mengambil kalimat terbaik dengan query berdasarkan judul dan cosinesim\n",
    "    \n",
    "#mendapatkan kalimat dengan lamda 0.7 dan sebanyak 5 kalimat\n",
    "summary = makeSummary(teks, dariNMF, query, 5, 0.7) #mendapatkan n kalimat terbaik dengan MMR dan NMF\n",
    "summaryJudul = makeSummary(teks1, darijudul, title, 5, 0.7) #mendapatkan n kalimat terbaik dengan MMR\n",
    "    \n",
    "hasil = gabung(summary, dictionary) #rangkuman hasil NMF dan MMR\n",
    "hasilJudul = gabung(summaryJudul, dictionary) #rangkuman hasil MMR dengan query berdasarkan judul"
   ]
  },
  {
   "cell_type": "markdown",
   "metadata": {},
   "source": [
    "## Judul Berita"
   ]
  },
  {
   "cell_type": "code",
   "execution_count": 58,
   "metadata": {},
   "outputs": [
    {
     "data": {
      "text/plain": [
       "'  Sandiaga Uno Sambangi PDM Kota Yogyakarta, Ini yang Dilakukan'"
      ]
     },
     "execution_count": 58,
     "metadata": {},
     "output_type": "execute_result"
    }
   ],
   "source": [
    "judul"
   ]
  },
  {
   "cell_type": "markdown",
   "metadata": {},
   "source": [
    "## Query dari judul (Hanya MMR)"
   ]
  },
  {
   "cell_type": "code",
   "execution_count": 59,
   "metadata": {},
   "outputs": [
    {
     "data": {
      "text/plain": [
       "'sandiaga uno sambang pdm kota yogyakarta'"
      ]
     },
     "execution_count": 59,
     "metadata": {},
     "output_type": "execute_result"
    }
   ],
   "source": [
    "title"
   ]
  },
  {
   "cell_type": "markdown",
   "metadata": {},
   "source": [
    "## Query hasil NMF"
   ]
  },
  {
   "cell_type": "code",
   "execution_count": 60,
   "metadata": {},
   "outputs": [
    {
     "data": {
      "text/plain": [
       "'yogyakarta ketua seragam sandi kampanye muhammadiyah'"
      ]
     },
     "execution_count": 60,
     "metadata": {},
     "output_type": "execute_result"
    }
   ],
   "source": [
    "query"
   ]
  },
  {
   "cell_type": "markdown",
   "metadata": {},
   "source": [
    "## Rangkuman hanya menggunakan MMR"
   ]
  },
  {
   "cell_type": "code",
   "execution_count": 57,
   "metadata": {},
   "outputs": [
    {
     "data": {
      "text/plain": [
       "'Dikatakan Afnan, Sandiaga datang ke PDM Kota Yogyakarta untuk bersilaturahmi tanpa embel-embel kampanye. YOGYA, KRJOGJAcom - Calon wakil presiden nomor urut 02, Sandiaga Uno bertandang ke Kantor Pimpinan Daerah Muhammadiyah (PDM) Kota Yogyakarta Jumat (22/3/2019) siang. Kami berharap Sandiaga setelah 18 April betul-betul bisa mengemban amanah umat, persyariatan bahwa harus ada perubahan,  ungkapnya. Sandiaga sendiri menyampaikan dengan tegas bahwa kunjungannya ke PDM Kota Yogyakarta murni silaturahmi tanpa embel-embel kampanye. Ketua PD Muhammadiyah Kota Yogyakarta, Akhid Widi Rahmanto yang berulang kali menyatakan tidak sedang berkampanye malah menyiratkan dukungan dengan menyampaikan potensi yang dimiliki Muhammadiyah di DIY pun menyebut Sandi sebagai wapres saat memulai pidato.'"
      ]
     },
     "execution_count": 57,
     "metadata": {},
     "output_type": "execute_result"
    }
   ],
   "source": [
    "hasilJudul"
   ]
  },
  {
   "cell_type": "markdown",
   "metadata": {},
   "source": [
    "## Rangkuman kombinasi MMR dan NMF"
   ]
  },
  {
   "cell_type": "code",
   "execution_count": 56,
   "metadata": {},
   "outputs": [
    {
     "data": {
      "text/plain": [
       "'Ketua PD Muhammadiyah Kota Yogyakarta, Akhid Widi Rahmanto yang berulang kali menyatakan tidak sedang berkampanye malah menyiratkan dukungan dengan menyampaikan potensi yang dimiliki Muhammadiyah di DIY pun menyebut Sandi sebagai wapres saat memulai pidato. Bawaslu juga mencatat ini kampanye atau bukan, kami tidak kampanye tapi kita menerima tamu sesama muslim dan warga Muhammadiyah karena dia pakai seragam Muhammadiyah, dia juga BPH Universitas Muhammadiyah Jakarta. Secara prinsip ada kedekatan juga dari Sandi karena mendapatkan seragam Muhammadiyah, itu mencerminkan ada kedekatan,  terangnya. Sempat mengenakan seragam Muhammadiyah dan mendapatkan cinderamata dari trah KH Ahmad Dahlan, Sandi berjanji merangkul Muhammadiyah jika nantinya terpilih di pemilu 2019. Terkait kunjungan tersebut, salah satu tokoh Muhammadiyah yang juga Ketua PP Tapak Suci Putra Muhammadiyah Afnan Hadikusumo menilai tidak akan banyak mengubah peta politik keluarga besar Muhammadiyah.'"
      ]
     },
     "execution_count": 56,
     "metadata": {},
     "output_type": "execute_result"
    }
   ],
   "source": [
    "hasil"
   ]
  },
  {
   "cell_type": "code",
   "execution_count": null,
   "metadata": {},
   "outputs": [],
   "source": []
  }
 ],
 "metadata": {
  "kernelspec": {
   "display_name": "Python 3",
   "language": "python",
   "name": "python3"
  },
  "language_info": {
   "codemirror_mode": {
    "name": "ipython",
    "version": 3
   },
   "file_extension": ".py",
   "mimetype": "text/x-python",
   "name": "python",
   "nbconvert_exporter": "python",
   "pygments_lexer": "ipython3",
   "version": "3.6.6"
  }
 },
 "nbformat": 4,
 "nbformat_minor": 2
}
